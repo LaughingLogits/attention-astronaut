{
 "cells": [
  {
   "cell_type": "code",
   "execution_count": null,
   "id": "6b332fe4-996d-4f54-922e-8355caed189b",
   "metadata": {
    "tags": []
   },
   "outputs": [],
   "source": [
    "#This is required to import the APMAE model from the other directory\n",
    "import sys, os\n",
    "path2add = os.path.normpath(os.path.abspath(os.path.join(os.path.dirname('./dimension_selection.ipynb'), os.path.pardir, 'Model')))\n",
    "if (not (path2add in sys.path)) :\n",
    "    sys.path.append(path2add)"
   ]
  },
  {
   "cell_type": "code",
   "execution_count": null,
   "id": "8d7c11b6-fcfd-4bf4-a49e-c050ab8566ff",
   "metadata": {},
   "outputs": [],
   "source": [
    "#Our code\n",
    "from DataUtil.DataLoader import IterableAttentionLoader\n",
    "from DataUtil.AttentionData import AttentionData\n",
    "from ap_mae import APMAE\n",
    "\n",
    "#Imported packages\n",
    "from transformers import AutoModelForCausalLM\n",
    "\n",
    "import numpy as np\n",
    "from tqdm import tqdm\n",
    "from collections import Counter\n",
    "\n",
    "from cuml.metrics import trustworthiness"
   ]
  },
  {
   "cell_type": "markdown",
   "id": "635abcfe-6dec-4a0d-a1a6-854bfaf52684",
   "metadata": {},
   "source": [
    "# Setup"
   ]
  },
  {
   "cell_type": "code",
   "execution_count": null,
   "id": "dd95bfb6-94dd-4373-8011-f81f1bb10fd1",
   "metadata": {},
   "outputs": [],
   "source": [
    "size = '3B' #Set the size of the target model here. 3B, 7B or 15B\n",
    "\n",
    "db_name = \"reproduction_{}\".format(size)\n",
    "target_model_name = 'bigcode/starcoder2-{}'.format(size.lower())\n",
    "encoding_model_name = 'LaughingLogits/AP-MAE-SC2-{}'.format(size)\n",
    "dataset_name = 'LaughingLogits/Stackless_Java_V2'\n",
    "split = 'test'\n",
    "\n",
    "device = 'cpu'\n",
    "languages = ['java']\n",
    "\n",
    "understanding = [\"identifiers\"]\n",
    "literals = [\"boolean_literals\", \"string_literals\", \"numeric_literals\"]\n",
    "operators = ['boolean_operators', 'mathematical_operators', 'assignment_operators']\n",
    "syntax = ['eol', 'closing_bracket']\n",
    "tasks = [\"random\"] + understanding + literals + operators + syntax\n",
    "\n",
    "samples_per_task = 1000\n",
    "context_length = 256"
   ]
  },
  {
   "cell_type": "code",
   "execution_count": null,
   "id": "dd044f9b-ddad-4460-abf0-7f0c9afd25c6",
   "metadata": {
    "tags": []
   },
   "outputs": [],
   "source": [
    "# These can be replaced with a list of keys, but we used all values in our investigation\n",
    "# e.g. layers = ['0', 1'] for all values in layer 0 and 1\n",
    "langs = \"*\"\n",
    "corrects = \"*\"\n",
    "querys = \"*\"\n",
    "layers = \"*\"\n",
    "heads = \"*\""
   ]
  },
  {
   "cell_type": "code",
   "execution_count": null,
   "id": "775a3422-edcf-4433-bcb3-bb5c739a15ae",
   "metadata": {},
   "outputs": [],
   "source": [
    "target_model = AutoModelForCausalLM.from_pretrained(target_model_name, device_map=\"auto\")\n",
    "attention_data = AttentionData(target_model.config, tasks, languages, db_name)"
   ]
  },
  {
   "cell_type": "markdown",
   "id": "a8a76bb0-06fe-44a4-b4b8-64cdb7670bdd",
   "metadata": {},
   "source": [
    "# Target Dimension Selection"
   ]
  },
  {
   "cell_type": "code",
   "execution_count": null,
   "id": "73494749-485e-4746-969f-6bf02cbd39e6",
   "metadata": {},
   "outputs": [],
   "source": [
    "X = attention_data.data.get_grouped_samples(langs, corrects, querys, layers, heads, 'enc_cls')\n",
    "for dims in [2,4,6,8]:\n",
    "    for trial in range(5):\n",
    "        X_reduced = UMAP(n_components=dims, min_dist=0, metric = 'manhattan').fit_transform(X)\n",
    "        for n in range(10):\n",
    "            num_sample = 1000000\n",
    "            select = [True] * num_sample\n",
    "            ignore = [False] * (len(X)-num_sample)\n",
    "            select = select+ignore\n",
    "            shuffle(select)\n",
    "\n",
    "\n",
    "            trust = trustworthiness(X[select], X_reduced[select], batch_size=256, n_neighbors=1000)\n",
    "            with open(\"./trust_d\" + str(dims) + \"_n\" + str(trial) + \".out\", \"a\") as outfile:\n",
    "                outfile.write(str(trust) + \"\\n\")"
   ]
  }
 ],
 "metadata": {
  "kernelspec": {
   "display_name": "Python 3 (ipykernel)",
   "language": "python",
   "name": "python3"
  },
  "language_info": {
   "codemirror_mode": {
    "name": "ipython",
    "version": 3
   },
   "file_extension": ".py",
   "mimetype": "text/x-python",
   "name": "python",
   "nbconvert_exporter": "python",
   "pygments_lexer": "ipython3",
   "version": "3.11.9"
  }
 },
 "nbformat": 4,
 "nbformat_minor": 5
}
